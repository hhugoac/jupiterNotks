{
  "cells": [
    {
      "cell_type": "markdown",
      "metadata": {
        "id": "view-in-github",
        "colab_type": "text"
      },
      "source": [
        "<a href=\"https://colab.research.google.com/github/hhugoac/jupiterNotks/blob/main/homework01.ipynb\" target=\"_parent\"><img src=\"https://colab.research.google.com/assets/colab-badge.svg\" alt=\"Open In Colab\"/></a>"
      ]
    },
    {
      "cell_type": "markdown",
      "metadata": {
        "id": "HPfHVgQRBHmg"
      },
      "source": [
        "# Homework: Vector (fundamentals)\n",
        "\n",
        "- **Problem 1.** Position Vectors 2D\n",
        "   \n",
        "   Using the applet above:\n",
        "   \n",
        "   a. Move F so that it has position Vector (2,1).\n",
        "\n",
        "   b. Move D so that it has position vector (-4,3).\n",
        "\n",
        "   c. Place the ends of the blue vector so that it become vector $\\vec{FD}$.\n",
        "     \n",
        "      Take Printscreen\n",
        "\n",
        "      HERE PASTE THE IMAGE\n",
        "\n",
        "   d. State the components of $\\vec{FD}$:\n",
        "\n",
        "    $$\n",
        "    \\vec{FD}=(-4-2) \\vec{i} + (3-1) \\vec{j}\n",
        "    $$\n",
        "    $$\n",
        "    =-6 \\vec{i} - 2 \\vec{j}\n",
        "    $$\n",
        "   \n",
        "   e. State $\\vec{FD}$ in terms of vectors $\\vec{f}$ and $\\vec{d}$.\n",
        "\n",
        "    $$\n",
        "    \\vec{FD}= \\vec{f} + \\vec{d}\n",
        "    $$\n",
        "\n",
        "- **Problem 2.** Vector Journeys 2D\n",
        "Using the applet above and , move  and  about to help you visualise and answer the questions below.\n",
        "\n",
        "  In terms of  and  state\n",
        "\n",
        "  a. $\\vec{AB}= \\vec{u}$\n",
        "\n",
        "  b. $\\vec{BC}= \\vec{v}$\n",
        "\n",
        "  c. $\\vec{AD}= \\vec{v}$\n",
        "\n",
        "  d. $\\vec{CD} = -\\vec{u}$\n",
        "\n",
        "  e. $\\vec{AC} = \\vec{u} + \\vec{v}$\n",
        "\n",
        "  f. $\\vec{BD} = \\vec{u} - \\vec{v}$\n",
        "\n",
        "No print screen is needed, just the answers to each item\n",
        "\n",
        "- **Problem 3.** Position Vectors 3D\n",
        "Using the applet above\n",
        "\n",
        "  1) List the coordinates of Points $A$, $B$, $C$, $D$, $E$, $F$, $G$, $H$, $I$. Notice that point $A$ and $O$ are the same.\n",
        "\n",
        "  $A= (0,0,0)$\n",
        "\n",
        "  $B= (4,0,0)$\n",
        "\n",
        "  $C= (4,4,0)$\n",
        "  \n",
        "  $D= (0,4,0)$\n",
        "\n",
        "  $E= (0,0,4)$\n",
        "\n",
        "  $F= (4,0,4)$\n",
        "\n",
        "  $G= (4,4,4)$\n",
        "\n",
        "  $H= (0,4,4)$\n",
        "\n",
        "  $I= (4,4,2)$\n",
        "\n",
        "  2) State:\n",
        "\n",
        "    a) the components of $\\vec{OH} = \\vec{AH} = \\vec{h}$\n",
        "\n",
        "    b) the components of $\\vec{AC}$\n",
        "\n",
        "    c) the vector $\\vec{BG}$ in terms of vectors $\\vec{OB}$ and $\\vec{OG}$.\n",
        "\n",
        "    d) the components of $\\vec{EI}$\n",
        "\n",
        "    e) the vector $\\vec{IE}$ in terms of $\\vec{EI}$\n",
        "\n",
        "    f) the components of $\\vec{JK}$\n",
        "\n",
        "# Answer\n",
        "\n",
        "   "
      ]
    },
    {
      "cell_type": "markdown",
      "metadata": {
        "id": "mLycWAaeBHmg"
      },
      "source": []
    }
  ],
  "metadata": {
    "language_info": {
      "name": "python"
    },
    "colab": {
      "provenance": [],
      "include_colab_link": true
    },
    "kernelspec": {
      "name": "python3",
      "display_name": "Python 3"
    }
  },
  "nbformat": 4,
  "nbformat_minor": 0
}